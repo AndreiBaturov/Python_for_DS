#Задание 1
#Импортируйте библиотеки pandas, numpy и matplotlib.
#Загрузите "Boston House Prices dataset" из встроенных наборов 
#данных библиотеки sklearn.
#Создайте датафреймы X и y из этих данных.
#Разбейте эти датафреймы на тренировочные (X_train, y_train) и тестовые (X_test, y_test)
#с помощью функции train_test_split так, чтобы размер тестовой выборки
#составлял 20% от всех данных, при этом аргумент random_state должен быть равен 42.
#Масштабируйте данные с помощью StandardScaler.
#Постройте модель TSNE на тренировочный данных с параметрами:
#n_components=2, learning_rate=250, random_state=42.
#Постройте диаграмму рассеяния на этих данных.

import numpy as np
import pandas as pd
import matplotlib.pyplot as plt

plt.style.use('fivethirtyeight')

%config InlineBackend.figure_format = 'svg'
%matplotlib inline

from sklearn.manifold import TSNE
from sklearn.datasets import load_boston

boston = load_boston()

X = pd.DataFrame(boston.data, columns=boston.feature_names)
y = boston.target

from sklearn.model_selection import train_test_split
from sklearn.preprocessing import StandardScaler

X_train, X_test, y_train, y_test = train_test_split(X, y, test_size=0.3, random_state=42)

scaler = StandardScaler()

X_train_scaled = pd.DataFrame(scaler.fit_transform(X_train), columns=X_train.columns)
X_test_scaled = pd.DataFrame(scaler.transform(X_test), columns=X_test.columns)

tsne = TSNE(n_components=2, learning_rate=250, random_state=42)

X_train_tsne = tsne.fit_transform(X_train_scaled)

plt.scatter(X_train_tsne[:, 0], X_train_tsne[:, 1])

plt.show()


#Задание 2
#С помощью KMeans разбейте данные из тренировочного набора на 3 кластера,
#используйте все признаки из датафрейма X_train.
#Параметр max_iter должен быть равен 100, random_state сделайте равным 42.
#Постройте еще раз диаграмму рассеяния на данных, полученных с помощью TSNE,
#и раскрасьте точки из разных кластеров разными цветами.
#Вычислите средние значения price и CRIM в разных кластерах.


from sklearn.cluster import KMeans

kmeans = KMeans(n_clusters=3, max_iter = 100,  random_state=42)

labels_train = kmeans.fit_predict(X_train_scaled)

plt.scatter(X_train_tsne[:, 0], X_train_tsne[:, 1], c=labels_train)

plt.show()


print('Кластер 0: price - {}'.format(X_train[labels_train == 0].mean()))
print('Кластер 1: price - {}'.format(X_train[labels_train == 1].mean()))
print('Кластер 2: price - {}'.format(X_train[labels_train == 2].mean()))

print('Кластер 0: CRIM - {}'.format(X_train.loc[labels_train == 0, 'CRIM'].mean()))
print('Кластер 1: CRIM - {}'.format(X_train.loc[labels_train == 1, 'CRIM'].mean()))
print('Кластер 2: CRIM - {}'.format(X_train.loc[labels_train == 2, 'CRIM'].mean()))